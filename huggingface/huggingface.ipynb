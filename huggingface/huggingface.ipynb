{
 "cells": [
  {
   "cell_type": "code",
   "execution_count": 1,
   "metadata": {},
   "outputs": [],
   "source": [
    "from langchain_community.document_loaders import PyPDFLoader,PyPDFDirectoryLoader\n",
    "from langchain.text_splitter import RecursiveCharacterTextSplitter\n",
    "from langchain_community.vectorstores import FAISS\n",
    "\n",
    "from langchain_community.embeddings import HuggingFaceBgeEmbeddings\n",
    "from langchain.prompts import PromptTemplate\n",
    "from langchain.chains import RetrievalQA"
   ]
  },
  {
   "cell_type": "code",
   "execution_count": 2,
   "metadata": {},
   "outputs": [
    {
     "data": {
      "text/plain": [
       "Document(metadata={'source': 'us_census\\\\acsbr-015.pdf', 'page': 0}, page_content='Health Insurance Coverage Status and Type \\nby Geography: 2021 and 2022\\nAmerican Community Survey Briefs\\nACSBR-015\\nIssued September 2023\\nDouglas Conway and Breauna Branch\\nINTRODUCTION\\nDemographic shifts as well as economic and govern-\\nment policy changes can affect people’s access to \\nhealth coverage. For example, between 2021 and 2022, \\nthe labor market continued to improve, which may \\nhave affected private coverage in the United States \\nduring that time.1 Public policy changes included \\nthe renewal of the Public Health Emergency, which \\nallowed Medicaid enrollees to remain covered under \\nthe Continuous Enrollment Provision.2 The American \\nRescue Plan (ARP) enhanced Marketplace premium \\nsubsidies for those with incomes above 400 percent \\nof the poverty level as well as for unemployed people.3\\nIn addition to national policies, individual states and \\nthe District of Columbia can affect health insurance \\ncoverage by making Marketplace or Medicaid more')"
      ]
     },
     "execution_count": 2,
     "metadata": {},
     "output_type": "execute_result"
    }
   ],
   "source": [
    "# Read the pdf from the folder\n",
    "loader = PyPDFDirectoryLoader(\"./us_census\")\n",
    "\n",
    "documents = loader.load()\n",
    "\n",
    "text_splitter = RecursiveCharacterTextSplitter(chunk_size=1000,chunk_overlap=200)\n",
    "\n",
    "final_document = text_splitter.split_documents(documents)\n",
    "final_document[0]"
   ]
  },
  {
   "cell_type": "code",
   "execution_count": 3,
   "metadata": {},
   "outputs": [
    {
     "name": "stderr",
     "output_type": "stream",
     "text": [
      "d:\\gen-ai\\langcain-tut\\venv\\Lib\\site-packages\\tqdm\\auto.py:21: TqdmWarning: IProgress not found. Please update jupyter and ipywidgets. See https://ipywidgets.readthedocs.io/en/stable/user_install.html\n",
      "  from .autonotebook import tqdm as notebook_tqdm\n",
      "d:\\gen-ai\\langcain-tut\\venv\\Lib\\site-packages\\huggingface_hub\\file_download.py:139: UserWarning: `huggingface_hub` cache-system uses symlinks by default to efficiently store duplicated files but your machine does not support them in C:\\Users\\Kartikeya\\.cache\\huggingface\\hub\\models--BAAI--bge-small-en-v1.5. Caching files will still work but in a degraded version that might require more space on your disk. This warning can be disabled by setting the `HF_HUB_DISABLE_SYMLINKS_WARNING` environment variable. For more details, see https://huggingface.co/docs/huggingface_hub/how-to-cache#limitations.\n",
      "To support symlinks on Windows, you either need to activate Developer Mode or to run Python as an administrator. In order to activate developer mode, see this article: https://docs.microsoft.com/en-us/windows/apps/get-started/enable-your-device-for-development\n",
      "  warnings.warn(message)\n"
     ]
    }
   ],
   "source": [
    "# Embedding Using Huggingface\n",
    "huggingface_embedding = HuggingFaceBgeEmbeddings(\n",
    "    model_name=\"BAAI/bge-small-en-v1.5\" ,\n",
    "    model_kwargs={'device' : 'cpu'},\n",
    "    encode_kwargs={'normalizer_embedding' : True}\n",
    ")"
   ]
  },
  {
   "cell_type": "code",
   "execution_count": 4,
   "metadata": {},
   "outputs": [
    {
     "data": {
      "text/plain": [
       "array([-0.07903484, -0.01134112, -0.02312097,  0.0284446 ,  0.05053344,\n",
       "        0.05317826, -0.01907787,  0.03456026, -0.10211367, -0.02915701,\n",
       "        0.08524259,  0.05650727, -0.02545438, -0.0330849 , -0.00635735,\n",
       "        0.04090863, -0.00628108,  0.00356744, -0.03854128,  0.03667685,\n",
       "       -0.04289803,  0.03425251, -0.03116899, -0.03793729,  0.01728391,\n",
       "        0.01214924,  0.00653119,  0.01463565, -0.05529054, -0.15320711,\n",
       "        0.00730845,  0.03202944, -0.04701132, -0.01595974,  0.0187445 ,\n",
       "        0.02642936, -0.02306378,  0.08438034,  0.04182484,  0.05278176,\n",
       "       -0.03057602,  0.01564262, -0.01689073,  0.00529409, -0.02417435,\n",
       "        0.00412995, -0.01889937, -0.00150625, -0.00836944, -0.03390064,\n",
       "        0.0351596 , -0.00553131,  0.04910937,  0.05971855,  0.05615962,\n",
       "       -0.05105155,  0.01475136, -0.01849959, -0.03284641,  0.03576624,\n",
       "        0.04947704, -0.00938883, -0.26202115,  0.09750329,  0.01715692,\n",
       "        0.0478139 , -0.00556317, -0.00298307, -0.02207355, -0.04463668,\n",
       "       -0.05760481,  0.04815878, -0.05522206,  0.01635333,  0.03299246,\n",
       "        0.02147079,  0.01296219,  0.01462309,  0.02174952, -0.00202999,\n",
       "        0.02099538,  0.03353847, -0.00345107, -0.04823537,  0.05149956,\n",
       "       -0.08948107,  0.04491429, -0.03423372,  0.02495744, -0.03332327,\n",
       "       -0.04124894,  0.01226977,  0.00551145,  0.02813654,  0.00750807,\n",
       "        0.03364132, -0.00718593, -0.00677302, -0.02375995,  0.3435055 ,\n",
       "       -0.02040539,  0.00967846, -0.0093651 ,  0.01524741, -0.00692598,\n",
       "       -0.0580374 , -0.00443029,  0.01115697,  0.01746202,  0.01258483,\n",
       "        0.0215861 , -0.02646193,  0.01026773,  0.04782214, -0.03718097,\n",
       "       -0.01986199,  0.04008092,  0.01574837,  0.09363518, -0.02635872,\n",
       "       -0.01393858,  0.03410932, -0.01630284, -0.04708785,  0.02137171,\n",
       "        0.06708883,  0.05438907,  0.1505418 ,  0.0344439 , -0.04218606,\n",
       "        0.10422418, -0.04002276, -0.00191296,  0.00459117, -0.00292591,\n",
       "        0.00371355, -0.02687687,  0.03972115, -0.00739632,  0.05129854,\n",
       "        0.00698695, -0.00043552, -0.00752806, -0.13413781, -0.03140992,\n",
       "        0.17964655, -0.02152573,  0.04534229,  0.02027219, -0.01826407,\n",
       "       -0.04439812,  0.04787034, -0.03801551,  0.04057755, -0.03817713,\n",
       "        0.01659362, -0.0036818 ,  0.02469143, -0.02634713, -0.06727427,\n",
       "        0.0570541 , -0.03698836, -0.05754095,  0.01774043,  0.04163105,\n",
       "       -0.0269981 , -0.01342312, -0.06434497,  0.02320635,  0.00476098,\n",
       "        0.0134585 ,  0.05142655,  0.01828842, -0.02267211,  0.08680935,\n",
       "        0.02288988, -0.02278558, -0.00261808, -0.00936064, -0.05964359,\n",
       "        0.0037007 , -0.02772143, -0.05116594, -0.04951671, -0.01691758,\n",
       "       -0.04342571, -0.06551474,  0.05782724,  0.04989289, -0.01559615,\n",
       "       -0.00385899,  0.00827745, -0.06377076,  0.01969863, -0.01933412,\n",
       "       -0.01095794, -0.059908  , -0.02187357,  0.03869355, -0.02963529,\n",
       "       -0.03095985,  0.0262945 ,  0.00857688, -0.00225385, -0.00917326,\n",
       "        0.0200688 ,  0.02308834, -0.06949829,  0.03825643, -0.01321396,\n",
       "        0.00288254,  0.04065885,  0.03197154,  0.00364806,  0.03610993,\n",
       "        0.01653041,  0.01282879, -0.02190454,  0.02050887,  0.03220993,\n",
       "        0.03351384,  0.06819049,  0.09490157, -0.27463815, -0.0049903 ,\n",
       "        0.00181547,  0.0068773 , -0.06947188, -0.05266641, -0.04547603,\n",
       "        0.02707842,  0.00403481,  0.08909721,  0.06208605, -0.00817409,\n",
       "       -0.02176251,  0.10530712,  0.02105069, -0.08313886,  0.0264829 ,\n",
       "       -0.02122215, -0.01542386, -0.00282385,  0.00493171,  0.0048772 ,\n",
       "       -0.06012275, -0.02174246,  0.08150736, -0.01746733,  0.06210522,\n",
       "       -0.05241902, -0.07425195,  0.00045816, -0.05536215,  0.0576216 ,\n",
       "       -0.00776098, -0.11965959,  0.06155293,  0.0177332 , -0.07490136,\n",
       "        0.00434345, -0.0637446 , -0.0309617 , -0.02682651,  0.05158744,\n",
       "       -0.06356604,  0.02998999, -0.01865463, -0.05194326,  0.0463651 ,\n",
       "        0.07127585, -0.08020446,  0.01025251,  0.00649389, -0.03402686,\n",
       "       -0.03371226, -0.01476089,  0.02565074, -0.06251819, -0.03164578,\n",
       "        0.03269229, -0.01906627, -0.00269565,  0.02393796,  0.00502713,\n",
       "        0.04807225, -0.00441301, -0.00810784, -0.04506411,  0.01010008,\n",
       "       -0.03085289, -0.07091323,  0.00998589,  0.00276084,  0.04710478,\n",
       "       -0.02302788, -0.02459353,  0.01797341, -0.02112836,  0.04660883,\n",
       "       -0.00104203, -0.00374577, -0.04950179,  0.04251798, -0.05733847,\n",
       "        0.02055239,  0.04219677, -0.01167059,  0.01241851,  0.01056793,\n",
       "        0.00663803, -0.01598003,  0.016328  , -0.02056749, -0.01553831,\n",
       "       -0.01156683, -0.01864407,  0.00332142,  0.00658677, -0.21910885,\n",
       "        0.04714743,  0.02075719, -0.02441516, -0.00868851, -0.01634119,\n",
       "       -0.02499121,  0.00766706, -0.01083085, -0.02472531,  0.05254846,\n",
       "        0.08288424,  0.11848132, -0.01936331, -0.00433764,  0.00458103,\n",
       "        0.06947737,  0.0012453 ,  0.02368699, -0.0345718 ,  0.06163957,\n",
       "       -0.06045358,  0.14640085, -0.03099669,  0.01726847, -0.06827351,\n",
       "       -0.0164134 ,  0.03765269, -0.03385304,  0.01721653,  0.02592444,\n",
       "       -0.00034787,  0.02241217, -0.01919534,  0.05005867,  0.00834136,\n",
       "        0.00977348,  0.05592789,  0.00274983,  0.02592716, -0.04995015,\n",
       "       -0.02017875,  0.02317918,  0.01068105,  0.06462799, -0.02950335,\n",
       "       -0.04529897, -0.06358045, -0.01058145,  0.06793743,  0.00993985,\n",
       "       -0.02914157,  0.00441982,  0.01224193, -0.05699342, -0.01181842,\n",
       "       -0.06126492,  0.03326268,  0.00284463, -0.01248828,  0.02214624,\n",
       "        0.04263505, -0.07597517,  0.0123405 ,  0.06002007])"
      ]
     },
     "execution_count": 4,
     "metadata": {},
     "output_type": "execute_result"
    }
   ],
   "source": [
    "import numpy as np\n",
    "np.array(huggingface_embedding.embed_query(final_document[0].page_content))"
   ]
  },
  {
   "cell_type": "code",
   "execution_count": 5,
   "metadata": {},
   "outputs": [],
   "source": [
    "## VectorStore Creation\n",
    "vectorstore=FAISS.from_documents(final_document[:120],huggingface_embedding)"
   ]
  },
  {
   "cell_type": "code",
   "execution_count": 7,
   "metadata": {},
   "outputs": [
    {
     "data": {
      "text/plain": [
       "'2 U.S. Census Bureau\\nWHAT IS HEALTH INSURANCE COVERAGE?\\nThis brief presents state-level estimates of health insurance coverage \\nusing data from the American Community Survey (ACS). The  \\nU.S. Census Bureau conducts the ACS throughout the year; the \\nsurvey asks respondents to report their coverage at the time of \\ninterview. The resulting measure of health insurance coverage, \\ntherefore, reflects an annual average of current comprehensive \\nhealth insurance coverage status.* This uninsured rate measures a \\ndifferent concept than the measure based on the Current Population \\nSurvey Annual Social and Economic Supplement (CPS ASEC). \\nFor reporting purposes, the ACS broadly classifies health insurance \\ncoverage as private insurance or public insurance. The ACS defines \\nprivate health insurance as a plan provided through an employer \\nor a union, coverage purchased directly by an individual from an \\ninsurance company or through an exchange (such as healthcare.'"
      ]
     },
     "execution_count": 7,
     "metadata": {},
     "output_type": "execute_result"
    }
   ],
   "source": [
    "# Query using similarity Search\n",
    "query = 'WHAT IS HEALTH INSURANCE COVERAGE?'\n",
    "\n",
    "relevant_document = vectorstore.similarity_search(query)\n",
    "relevant_document[0].page_content"
   ]
  },
  {
   "cell_type": "code",
   "execution_count": 12,
   "metadata": {},
   "outputs": [],
   "source": [
    "import os\n",
    "from dotenv import load_dotenv\n",
    "\n",
    "load_dotenv()\n",
    "os.environ['HUGGINGFACEHUB_API_TOKEN']= os.environ.get('HUGGINGFACEHUB_API_TOKEN')"
   ]
  },
  {
   "cell_type": "code",
   "execution_count": 8,
   "metadata": {},
   "outputs": [
    {
     "name": "stdout",
     "output_type": "stream",
     "text": [
      "tags=['FAISS', 'HuggingFaceBgeEmbeddings'] vectorstore=<langchain_community.vectorstores.faiss.FAISS object at 0x00000284C4FFE650> search_kwargs={'k': 3}\n"
     ]
    }
   ],
   "source": [
    "retriever = vectorstore.as_retriever(search_type = 'similarity',search_kwargs ={'k':3})\n",
    "print(retriever)"
   ]
  },
  {
   "cell_type": "code",
   "execution_count": 18,
   "metadata": {},
   "outputs": [
    {
     "data": {
      "text/plain": [
       "'what is the health insurance coverage?\\n\\nThe health insurance coverage is a type of insurance that covers the cost of medical care. It is usually provided by an employer, but can also be purchased individually. The coverage typically includes hospitalization, doctor visits, and prescription drugs.\\n\\nWhat are the benefits of health insurance coverage?\\n\\nThe benefits of health insurance coverage are many. It can help you pay for medical expenses, protect you from financial ruin in the event of a serious illness or injury, and provide peace of mind knowing'"
      ]
     },
     "execution_count": 18,
     "metadata": {},
     "output_type": "execute_result"
    }
   ],
   "source": [
    "from langchain_community.llms import HuggingFaceHub\n",
    "hf = HuggingFaceHub(\n",
    "    repo_id = 'mistralai/Mistral-7B-v0.1',\n",
    "    model_kwargs = {'temprature':0.1,\"max_lenght\":500}\n",
    ")\n",
    "query = \"what is the health insurance coverage?\"\n",
    "hf.invoke(query)"
   ]
  },
  {
   "cell_type": "markdown",
   "metadata": {},
   "source": [
    "### Loading The model locally\n",
    "This is for running model locally so You can uncomment this to run the model locally"
   ]
  },
  {
   "cell_type": "code",
   "execution_count": 17,
   "metadata": {},
   "outputs": [],
   "source": [
    "# Huggingface models can be run locally through the HuggingFacePipeline class\n",
    "# from langchain.llms.huggingface_pipeline import HuggingFacePipeline\n",
    "\n",
    "# hf = HuggingFacePipeline.from_model_id(\n",
    "#     model_id = 'mistralai/Mistral-7B-v0.1',\n",
    "#     task='text-generation',\n",
    "#     pipeline_kwargs = {'temperature':0,'max_new_tokens':300}\n",
    "# )\n",
    "\n",
    "# llm = hf\n",
    "# llm.invoke(query)"
   ]
  },
  {
   "cell_type": "code",
   "execution_count": 20,
   "metadata": {},
   "outputs": [],
   "source": [
    "prompt_template = \"\"\"\n",
    "User the following piece of context to answer the question asked.\n",
    "Please try to provide the answer only based on the context\n",
    "{context}\n",
    "Question:{question}\n",
    "Helpful Answers:\n",
    "\"\"\""
   ]
  },
  {
   "cell_type": "code",
   "execution_count": 21,
   "metadata": {},
   "outputs": [],
   "source": [
    "prompt = PromptTemplate(template=prompt_template,input_variables=[\"context\",'question'])"
   ]
  },
  {
   "cell_type": "code",
   "execution_count": 28,
   "metadata": {},
   "outputs": [],
   "source": [
    "retrieverQA = RetrievalQA.from_chain_type(\n",
    "    llm=hf,\n",
    "    chain_type='stuff',\n",
    "    retriever=retriever,\n",
    "    return_source_documents=True,\n",
    "    chain_type_kwargs={\"prompt\":prompt}\n",
    ")"
   ]
  },
  {
   "cell_type": "code",
   "execution_count": 30,
   "metadata": {},
   "outputs": [],
   "source": [
    "query = \"\"\"Differences in the uninsured Rate by state is 2022\"\"\""
   ]
  },
  {
   "cell_type": "code",
   "execution_count": 31,
   "metadata": {},
   "outputs": [
    {
     "data": {
      "text/plain": [
       "'\\nUser the following piece of context to answer the question asked.\\nPlease try to provide the answer only based on the context\\npercent (Appendix Table B-5). \\nMedicaid coverage accounted \\nfor a portion of that difference. \\nMedicaid coverage was 22.7 per-\\ncent in the group of states that \\nexpanded Medicaid eligibility and \\n18.0 percent in the group of nonex-\\npansion states.\\nCHANGES IN THE UNINSURED \\nRATE BY STATE FROM 2021 \\nTO 2022\\nFrom 2021 to 2022, uninsured rates \\ndecreased across 27 states, while \\nonly Maine had an increase. The \\nuninsured rate in Maine increased \\nfrom 5.7 percent to 6.6 percent, \\nalthough it remained below the \\nnational average. Maine’s uninsured \\nrate was still below 8.0 percent, \\n21 Douglas Conway and Breauna Branch, \\n“Health Insurance Coverage Status and Type \\nby Geography: 2019 and 2021,” 2022, <www.\\ncensus.gov/content/dam/Census/library/\\npublications/2022/acs/acsbr-013.pdf>.\\n\\ncomparison of ACS and CPS ASEC measures \\nof health insurance coverage, refer to <www.\\ncensus.gov/topics/health/health-insurance/\\nguidance.html>.\\n9 Respondents may have more than one \\nhealth insurance coverage type at the time \\nof interview. As a result, adding the total \\nnumber of people with private coverage and \\nthe total number with public coverage will \\nsum to more than the total number with any \\ncoverage.\\n• From 2021 to 2022, nine states \\nreported increases in private \\ncoverage, while seven reported \\ndecreases (Appendix Table B-2). \\nDIFFERENCES IN THE \\nUNINSURED RATE BY STATE \\nIN 2022\\nIn 2022, uninsured rates at the \\ntime of interview ranged across \\nstates from a low of 2.4 percent \\nin Massachusetts to a high of 16.6 \\npercent in Texas, compared to the \\nnational rate of 8.0 percent.10 Ten \\nof the 15 states with uninsured \\n10 The uninsured rates in the District \\nof Columbia and Massachusetts were not \\nstatistically different.\\nrates above the national aver-\\n\\nlibrary/publications/2022/acs/acsbr-013.pdf>.\\n39 In 2022, the private coverage rates were \\nnot statistically different in North Dakota and \\nUtah.\\nFigure /five.tab/period.tab\\nPercentage of Uninsured People for the /two.tab/five.tab Most Populous Metropolitan \\nAreas/colon.tab /two.tab/zero.tab/two.tab/one.tab and /two.tab/zero.tab/two.tab/two.tab\\n(Civilian, noninstitutionalized population) /uni00A0\\n* Denotes a statistically signiﬁcant change between 2021 and 2022 at the 90 percent conﬁdence level.\\nNote: For information on conﬁdentiality protection, sampling error, nonsampling error, and deﬁnitions in the American Community\\nSurvey, refer to <https://www2.census.gov/programs-surveys/acs/tech_docs/accuracy/ACS_Accuracy_of_Data_2022.pdf>.\\nSource: U.S. Census Bureau, 2021 and 2022 American Community Survey, 1-year estimates.\\n Boston-Cambridge-Newton/comma.tab MA-NH\\nSan Francisco-Oakland-Berkeley/comma.tab CA\\n*Detroit-Warren-Dearborn/comma.tab MI\\nQuestion:Differences in the uninsured Rate by state is 2022\\nHelpful Answers:\\n1. The uninsured rate in Texas was 16.6 percent in 2022.\\n2. The uninsured rate in Massachusetts was 2.4 percent in 2022.\\n3. The uninsured rate in Texas was higher than the national average of 8.0 percent in 2022.\\n4. The uninsured rate in Massachusetts was lower than the national average of 8.0 percent in 2'"
      ]
     },
     "execution_count": 31,
     "metadata": {},
     "output_type": "execute_result"
    }
   ],
   "source": [
    "# Call the QA chain with our query\n",
    "result = retrieverQA.invoke({'query':query})\n",
    "result['result']"
   ]
  }
 ],
 "metadata": {
  "kernelspec": {
   "display_name": "venv",
   "language": "python",
   "name": "python3"
  },
  "language_info": {
   "codemirror_mode": {
    "name": "ipython",
    "version": 3
   },
   "file_extension": ".py",
   "mimetype": "text/x-python",
   "name": "python",
   "nbconvert_exporter": "python",
   "pygments_lexer": "ipython3",
   "version": "3.11.9"
  }
 },
 "nbformat": 4,
 "nbformat_minor": 2
}
