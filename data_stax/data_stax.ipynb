{
 "cells": [
  {
   "cell_type": "code",
   "execution_count": 11,
   "metadata": {},
   "outputs": [
    {
     "data": {
      "text/plain": [
       "True"
      ]
     },
     "execution_count": 11,
     "metadata": {},
     "output_type": "execute_result"
    }
   ],
   "source": [
    "import os\n",
    "from dotenv import load_dotenv\n",
    "os.environ['ASTRA_DB_API_ENDPOINT'] =  os.getenv('ASTRA_DB_API_ENDPOINT')\n",
    "os.environ['ASTRA_DB_APPLICATION_TOKEN'] = os.getenv('ASTRA_DB_APPLICATION_TOKEN')\n",
    "load_dotenv()"
   ]
  },
  {
   "cell_type": "markdown",
   "metadata": {},
   "source": [
    "# Create RAG Pipeline"
   ]
  },
  {
   "cell_type": "markdown",
   "metadata": {},
   "source": [
    "### Emedding Model and Vector Store"
   ]
  },
  {
   "cell_type": "code",
   "execution_count": 16,
   "metadata": {},
   "outputs": [
    {
     "name": "stdout",
     "output_type": "stream",
     "text": [
      "Astra vector store configured\n"
     ]
    }
   ],
   "source": [
    "from langchain_astradb import AstraDBVectorStore\n",
    "from langchain_community.embeddings import OllamaEmbeddings\n",
    "from langchain.vectorstores.cassandra import Cassandra\n",
    "\n",
    "# Configure your embedding model and vectore store\n",
    "embeddings = OllamaEmbeddings(model='llama3.2:1b')\n",
    "vstore = AstraDBVectorStore(\n",
    "    collection_name='rag_test',\n",
    "    embedding=embeddings,\n",
    "    token=os.getenv('ASTRA_DB_APPLICATION_TOKEN'),\n",
    "    api_endpoint=os.getenv('ASTRA_DB_API_ENDPOINT')\n",
    ")\n",
    "print('Astra vector store configured')"
   ]
  },
  {
   "cell_type": "code",
   "execution_count": 17,
   "metadata": {},
   "outputs": [
    {
     "name": "stderr",
     "output_type": "stream",
     "text": [
      "Downloading readme: 100%|██████████| 574/574 [00:00<?, ?B/s] \n",
      "Downloading data: 100%|██████████| 67.6k/67.6k [00:00<00:00, 110kB/s]\n",
      "Generating train split: 100%|██████████| 450/450 [00:00<00:00, 3883.28 examples/s]\n"
     ]
    },
    {
     "name": "stdout",
     "output_type": "stream",
     "text": [
      "An example entry : \n"
     ]
    },
    {
     "data": {
      "text/plain": [
       "{'author': ['aristotle',\n",
       "  'aristotle',\n",
       "  'aristotle',\n",
       "  'aristotle',\n",
       "  'aristotle',\n",
       "  'aristotle',\n",
       "  'aristotle',\n",
       "  'aristotle',\n",
       "  'aristotle',\n",
       "  'aristotle',\n",
       "  'aristotle',\n",
       "  'aristotle',\n",
       "  'aristotle',\n",
       "  'aristotle',\n",
       "  'aristotle',\n",
       "  'aristotle'],\n",
       " 'quote': [\"True happiness comes from gaining insight and growing into your best possible self. Otherwise all you're having is immediate gratification pleasure, which is fleeting and doesn't grow you as a person.\",\n",
       "  'The roots of education are bitter, but the fruit is sweet.',\n",
       "  'Before you heal the body you must first heal the mind',\n",
       "  'The proof that you know something is that you are able to teach it',\n",
       "  'Those who are not angry at the things they should be angry at are thought to be fools, and so are those who are not angry in the right way, at the right time, or with the right persons.',\n",
       "  'Whatever we learn to do, we learn by actually doing it; men come to be builders, for instance, by building, and harp players by playing the harp. In the same way, by doing just acts we come to be just; by doing self-controlled acts, we come to be self-controlled ; and by doing brave acts, we become brave.',\n",
       "  'The greatest thing by far is to be a master of metaphor; it is the one thing that cannot be learned from others; and it is also a sign of genius, since a good metaphor implies an intuitive perception of the similarity of the dissimilar.',\n",
       "  'The society that loses its grip on the past is in danger, for it produces men who know nothing but the present, and who are not aware that life had been, and could be, different from what it is.',\n",
       "  'The man who is truly good and wise will bear with dignity whatever fortune sends, and will always make the best of his circumstances.',\n",
       "  'The greatest of all pleasures is the pleasure of learning.',\n",
       "  'Fortune favours the bold.',\n",
       "  'You are what you repeatedly do',\n",
       "  'The quality of life is determined by its activities.',\n",
       "  'You are what you do repeatedly.',\n",
       "  'Anyone who has no need of anybody but himself is either a beast or a God.',\n",
       "  'Love is composed of a single soul inhabiting two bodies.'],\n",
       " 'tags': ['knowledge',\n",
       "  'education;knowledge',\n",
       "  'ethics',\n",
       "  'education;knowledge',\n",
       "  None,\n",
       "  'education;knowledge',\n",
       "  None,\n",
       "  'history;ethics;knowledge',\n",
       "  'knowledge;ethics',\n",
       "  'knowledge;education;history',\n",
       "  None,\n",
       "  None,\n",
       "  None,\n",
       "  None,\n",
       "  None,\n",
       "  'love']}"
      ]
     },
     "execution_count": 17,
     "metadata": {},
     "output_type": "execute_result"
    }
   ],
   "source": [
    "from datasets import load_dataset\n",
    "\n",
    "# Load a sample dataset\n",
    "philo_dataset = load_dataset('datastax/philosopher-quotes')['train']\n",
    "print('An example entry : ')\n",
    "philo_dataset[:16]"
   ]
  },
  {
   "cell_type": "code",
   "execution_count": 18,
   "metadata": {},
   "outputs": [],
   "source": [
    "from langchain.schema import Document\n",
    "\n",
    "# Contructs a set of documents form your data.Documents can be used as inputs to your vectore store/\n",
    "docs = []\n",
    "for entry in philo_dataset:\n",
    "    metadata = {\"author\" : entry['author']}\n",
    "    if entry['tags']:\n",
    "        # Add metadata tags to the metadata dictionary\n",
    "        for tags in entry['tags'].split(';'):\n",
    "            metadata[tags] = 'y'\n",
    "    # Create a Langchain document with the quote and metadata tags\n",
    "    doc = Document(page_content=entry['quote'],metadata=metadata)\n",
    "    docs.append(doc)"
   ]
  },
  {
   "cell_type": "code",
   "execution_count": 23,
   "metadata": {},
   "outputs": [
    {
     "data": {
      "text/plain": [
       "[Document(metadata={'author': 'aristotle', 'knowledge': 'y'}, page_content=\"True happiness comes from gaining insight and growing into your best possible self. Otherwise all you're having is immediate gratification pleasure, which is fleeting and doesn't grow you as a person.\"),\n",
       " Document(metadata={'author': 'aristotle', 'education': 'y', 'knowledge': 'y'}, page_content='The roots of education are bitter, but the fruit is sweet.'),\n",
       " Document(metadata={'author': 'aristotle', 'ethics': 'y'}, page_content='Before you heal the body you must first heal the mind'),\n",
       " Document(metadata={'author': 'aristotle', 'education': 'y', 'knowledge': 'y'}, page_content='The proof that you know something is that you are able to teach it'),\n",
       " Document(metadata={'author': 'aristotle'}, page_content='Those who are not angry at the things they should be angry at are thought to be fools, and so are those who are not angry in the right way, at the right time, or with the right persons.'),\n",
       " Document(metadata={'author': 'aristotle', 'education': 'y', 'knowledge': 'y'}, page_content='Whatever we learn to do, we learn by actually doing it; men come to be builders, for instance, by building, and harp players by playing the harp. In the same way, by doing just acts we come to be just; by doing self-controlled acts, we come to be self-controlled ; and by doing brave acts, we become brave.'),\n",
       " Document(metadata={'author': 'aristotle'}, page_content='The greatest thing by far is to be a master of metaphor; it is the one thing that cannot be learned from others; and it is also a sign of genius, since a good metaphor implies an intuitive perception of the similarity of the dissimilar.'),\n",
       " Document(metadata={'author': 'aristotle', 'history': 'y', 'ethics': 'y', 'knowledge': 'y'}, page_content='The society that loses its grip on the past is in danger, for it produces men who know nothing but the present, and who are not aware that life had been, and could be, different from what it is.'),\n",
       " Document(metadata={'author': 'aristotle', 'knowledge': 'y', 'ethics': 'y'}, page_content='The man who is truly good and wise will bear with dignity whatever fortune sends, and will always make the best of his circumstances.'),\n",
       " Document(metadata={'author': 'aristotle', 'knowledge': 'y', 'education': 'y', 'history': 'y'}, page_content='The greatest of all pleasures is the pleasure of learning.')]"
      ]
     },
     "execution_count": 23,
     "metadata": {},
     "output_type": "execute_result"
    }
   ],
   "source": [
    "docs[:10]"
   ]
  },
  {
   "cell_type": "code",
   "execution_count": 34,
   "metadata": {},
   "outputs": [
    {
     "name": "stdout",
     "output_type": "stream",
     "text": [
      "\n",
      "Inserted 450 Documents.\n"
     ]
    }
   ],
   "source": [
    "# Create embedding by inserting your documents into the vectore store.\n",
    "inserted_ids = vstore.add_documents(docs)\n",
    "print(f'\\nInserted {len(inserted_ids)} Documents.')"
   ]
  },
  {
   "cell_type": "code",
   "execution_count": 36,
   "metadata": {},
   "outputs": [
    {
     "name": "stdout",
     "output_type": "stream",
     "text": [
      "{'data': {'documents': [{'_id': '880c3ab822144892b174d6dadc0a4629', 'content': 'To endure life remains, when all is said, the first duty of all living being Illusion can have no value if it makes this more difficult for us.', 'metadata': {'author': 'freud'}}, {'_id': 'b51d9d13d19a43839589b41fee608970', 'content': 'At bottom God is nothing more than an exalted father.', 'metadata': {'author': 'freud', 'religion': 'y'}}, {'_id': '8e5ac58fd1704ac6b57486ffab982294', 'content': 'All men by nature desire knowledge.', 'metadata': {'author': 'aristotle', 'knowledge': 'y', 'education': 'y'}}, {'_id': '41c20f6819fd44248dd865910e2b709b', 'content': 'Analogies, it is true, decide nothing, but they can make one feel more at home.', 'metadata': {'author': 'freud'}}, {'_id': '4b7916814a6a43cb92a4e04dbacefb94', 'content': 'By a lie, a man... annihilates his dignity as a man.', 'metadata': {'author': 'kant', 'politics': 'y', 'ethics': 'y'}}, {'_id': 'f04cb4297b5f4bc8a8c66636cb877943', 'content': 'Smooth and smiling faces everywhere, but ruin in their eyes.', 'metadata': {'author': 'sartre', 'politics': 'y'}}, {'_id': 'ac233e9dfb8742668d05b97edf5a701d', 'content': 'There are horrible people who, instead of solving a problem, tangle it up and make it harder to solve for anyone who wants to deal with it. Whoever does not know how to hit the nail on the head should be asked not to hit it at all.', 'metadata': {'author': 'nietzsche'}}, {'_id': '520a7a16c9424345a0946e9f7f5c8339', 'content': 'When man is not properly trained, he is the most savage animal on the face of the globe.', 'metadata': {'author': 'plato', 'ethics': 'y'}}, {'_id': '00c69d7f425b441b8fb99329adb81f79', 'content': 'The virtuous man contents himself with dreaming that which the wicked man does in actual life.', 'metadata': {'author': 'freud', 'ethics': 'y'}}, {'_id': 'ac51845db6724c39b1eb72a5b7afaf50', 'content': 'It is solely by risking life that freedom is obtained; . . . the individual who has not staked his or her life may, no doubt, be recognized as a Person; but he or she has not attained the truth of this recognition as an independent self-consciousness.', 'metadata': {'author': 'hegel', 'ethics': 'y'}}, {'_id': 'fbaaff2de38344c4a9707ac20ec20fdd', 'content': 'Deception, flattering, lying, deluding, talking behind the back, putting up a false front, living in borrowed splendor, wearing a mask, hiding behind convention, playing a role for others and for oneself -- in short, a continuous fluttering around the solitary flame of vanity -- is so much the rule and the law among men that there is almost nothing which is less comprehensible than how an honest and pure drive for truth could have arisen among them.', 'metadata': {'author': 'nietzsche'}}, {'_id': '405dfe12f3ce4ae3ae3b1b75880989f7', 'content': 'Truth that is naked is the most beautiful, and the simpler its expression the deeper is the impression it makes.', 'metadata': {'author': 'schopenhauer', 'ethics': 'y', 'education': 'y'}}, {'_id': '904df1308c904324bfb2a2d9f02b65c8', 'content': 'Insanity in individuals is something rare - but in groups, parties, nations and epochs, it is the rule.', 'metadata': {'author': 'nietzsche', 'politics': 'y'}}, {'_id': '99fbb3b7d5c843f5a7931954434657d2', 'content': \"Sometimes people don't want to hear the truth because they don't want their illusions destroyed.\", 'metadata': {'author': 'nietzsche', 'ethics': 'y', 'education': 'y', 'politics': 'y'}}, {'_id': 'e606ba9f10ed418c819bb5e0e94b581d', 'content': 'To him who looks upon the world rationally, the world in its turn presents a rational aspect. The relation is mutual.', 'metadata': {'author': 'hegel', 'knowledge': 'y', 'ethics': 'y'}}, {'_id': 'f20c40cbdf0f44c19d58af6101910985', 'content': 'The sum total of all possible knowledge of God is not possible for a human being, not even through a true revelation. But it is one of the worthiest inquiries to see how far our reason can go in the knowledge of God.', 'metadata': {'author': 'kant', 'knowledge': 'y'}}, {'_id': 'a5892bd2b4d44f87814919981e83f23f', 'content': 'Regarding History as the slaughter-bench at which the happiness of peoples, the wisdom of States, and the virtue of individuals have been victimized--the question involuntarily arises--to what principle, to what final aim these enormous sacrifices have been offered.', 'metadata': {'author': 'hegel', 'history': 'y'}}, {'_id': '28cdd24b1d874a0cb6efd2d65d59b47a', 'content': '[A ruler is merely] the trustee of the rights of other men and he must always stand in dread of having in some way violated these rights.', 'metadata': {'author': 'kant', 'ethics': 'y'}}, {'_id': '20a7100a8107476b8eaae39c10a92c00', 'content': 'Propounding peace and love without practical or institutional engagement is delusion, not virtue.', 'metadata': {'author': 'hegel'}}, {'_id': 'a09b43dd479f45b3b284e166a5e76efa', 'content': 'The greatest of all pleasures is the pleasure of learning.', 'metadata': {'author': 'aristotle', 'knowledge': 'y', 'education': 'y', 'history': 'y'}}], 'nextPageState': 'KQAAAAEBAAAAIGEwOWI0M2RkNDc5ZjQ1YjNiMjg0ZTE2NmE1ZTc2ZWZhAPB////rAA=='}}\n"
     ]
    }
   ],
   "source": [
    "# Check your collection to verify that documents are embedded\n",
    "print(vstore.astra_db.collection('rag_test').find())"
   ]
  },
  {
   "cell_type": "markdown",
   "metadata": {},
   "source": [
    "### Basic Retrival\n",
    "Retrieve context from your vectore database, and pass it to the model with a prompt"
   ]
  },
  {
   "cell_type": "code",
   "execution_count": 48,
   "metadata": {},
   "outputs": [
    {
     "name": "stdout",
     "output_type": "stream",
     "text": [
      "Retrieved Context:\n",
      "Content: Philosophy stands in need of a science which shall determine the possibility, principles, and extent of human knowledge  priori.\n",
      "Metadata: {'author': 'kant', 'knowledge': 'y'}\n",
      "Content: Philosophy is by its nature something esoteric, neither made for the mob nor capable of being prepared for the mob.\n",
      "Metadata: {'author': 'hegel'}\n",
      "Content: A moral system valid for all is basically immoral.\n",
      "Metadata: {'author': 'nietzsche'}\n",
      "\n",
      "Model's Response:\n",
      "In the given context, \"philosophy\" refers to a broad and abstract field of study that deals with fundamental questions about existence, knowledge, values, and reality. It encompasses various disciplines such as metaphysics, epistemology, ethics, logic, and aesthetics, which explore complex ideas, concepts, and principles.\n",
      "\n",
      "Based on the provided page content from different philosophers (Kant, Hegel, and Nietzsche), it is clear that philosophy is a subject that examines the nature of reality, knowledge, morality, and human existence, rather than a practical or applied discipline like science.\n"
     ]
    }
   ],
   "source": [
    "from langchain.prompts import ChatPromptTemplate\n",
    "from langchain_community.chat_models import ChatOllama\n",
    "from langchain.schema.output_parser import StrOutputParser\n",
    "from langchain.schema.runnable import RunnablePassthrough\n",
    "\n",
    "retriever = vstore.as_retriever(search_kwargs={'k':3})\n",
    "\n",
    "prompt_template = \"\"\"\n",
    "Answer the question based only on  the supplied context.\n",
    "Context : {context}\n",
    "Question : {question}\n",
    "Your answer :\n",
    "\"\"\"\n",
    "\n",
    "prompt = ChatPromptTemplate.from_template(prompt_template)\n",
    "model = ChatOllama(model=\"llama3.2:1b\")\n",
    "\n",
    "chain = (\n",
    "    {'context' : retriever, \"question\"  : RunnablePassthrough()}\n",
    "    |prompt\n",
    "    |model\n",
    "    |StrOutputParser()\n",
    ")\n",
    "\n",
    "# Invoke the chain and inspect the context\n",
    "question = \"In the given context, what is philosophical?\"\n",
    "\n",
    "# Retrieve the context separately for inspection\n",
    "retrieved_context = retriever.get_relevant_documents(question)\n",
    "\n",
    "# Print the retrieved context\n",
    "print(\"Retrieved Context:\")\n",
    "for doc in retrieved_context:\n",
    "    print(f\"Content: {doc.page_content}\")\n",
    "    print(f\"Metadata: {doc.metadata}\")\n",
    "\n",
    "# Pass the question to the chain\n",
    "result = chain.invoke(question)\n",
    "print(\"\\nModel's Response:\")\n",
    "print(result)"
   ]
  }
 ],
 "metadata": {
  "kernelspec": {
   "display_name": "venv",
   "language": "python",
   "name": "python3"
  },
  "language_info": {
   "codemirror_mode": {
    "name": "ipython",
    "version": 3
   },
   "file_extension": ".py",
   "mimetype": "text/x-python",
   "name": "python",
   "nbconvert_exporter": "python",
   "pygments_lexer": "ipython3",
   "version": "3.11.9"
  }
 },
 "nbformat": 4,
 "nbformat_minor": 2
}
